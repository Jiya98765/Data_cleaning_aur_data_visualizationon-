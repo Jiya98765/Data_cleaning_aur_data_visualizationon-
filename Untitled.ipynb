{
 "cells": [
  {
   "cell_type": "code",
   "execution_count": 19,
   "id": "f8ac8101-9049-47de-9756-86021f149ed1",
   "metadata": {},
   "outputs": [],
   "source": [
    "import pandas as pd\n",
    "import matplotlib.pyplot as plt"
   ]
  },
  {
   "cell_type": "code",
   "execution_count": 5,
   "id": "48919979-b679-482d-89c9-6ae35cb10544",
   "metadata": {},
   "outputs": [],
   "source": [
    "df = pd.read_csv(\"sports_dataset_with_nulls_and_duplicates.csv\")"
   ]
  },
  {
   "cell_type": "code",
   "execution_count": 6,
   "id": "33e59ba8-89e7-4041-8280-e96fe2d4c642",
   "metadata": {},
   "outputs": [
    {
     "data": {
      "text/html": [
       "<div>\n",
       "<style scoped>\n",
       "    .dataframe tbody tr th:only-of-type {\n",
       "        vertical-align: middle;\n",
       "    }\n",
       "\n",
       "    .dataframe tbody tr th {\n",
       "        vertical-align: top;\n",
       "    }\n",
       "\n",
       "    .dataframe thead th {\n",
       "        text-align: right;\n",
       "    }\n",
       "</style>\n",
       "<table border=\"1\" class=\"dataframe\">\n",
       "  <thead>\n",
       "    <tr style=\"text-align: right;\">\n",
       "      <th></th>\n",
       "      <th>Player_ID</th>\n",
       "      <th>Name</th>\n",
       "      <th>Age</th>\n",
       "      <th>Team</th>\n",
       "      <th>Position</th>\n",
       "      <th>Matches_Played</th>\n",
       "      <th>Goals</th>\n",
       "      <th>Assists</th>\n",
       "      <th>Yellow_Cards</th>\n",
       "      <th>Red_Cards</th>\n",
       "    </tr>\n",
       "  </thead>\n",
       "  <tbody>\n",
       "    <tr>\n",
       "      <th>0</th>\n",
       "      <td>1332</td>\n",
       "      <td>Eva</td>\n",
       "      <td>24.0</td>\n",
       "      <td>Team B</td>\n",
       "      <td>Midfielder</td>\n",
       "      <td>10.0</td>\n",
       "      <td>5.0</td>\n",
       "      <td>NaN</td>\n",
       "      <td>1.0</td>\n",
       "      <td>0.0</td>\n",
       "    </tr>\n",
       "    <tr>\n",
       "      <th>1</th>\n",
       "      <td>1086</td>\n",
       "      <td>Grace</td>\n",
       "      <td>21.0</td>\n",
       "      <td>Team D</td>\n",
       "      <td>Defender</td>\n",
       "      <td>30.0</td>\n",
       "      <td>2.0</td>\n",
       "      <td>5.0</td>\n",
       "      <td>NaN</td>\n",
       "      <td>1.0</td>\n",
       "    </tr>\n",
       "    <tr>\n",
       "      <th>2</th>\n",
       "      <td>1764</td>\n",
       "      <td>Eva</td>\n",
       "      <td>22.0</td>\n",
       "      <td>Team B</td>\n",
       "      <td>Defender</td>\n",
       "      <td>25.0</td>\n",
       "      <td>3.0</td>\n",
       "      <td>NaN</td>\n",
       "      <td>3.0</td>\n",
       "      <td>NaN</td>\n",
       "    </tr>\n",
       "    <tr>\n",
       "      <th>3</th>\n",
       "      <td>1866</td>\n",
       "      <td>John</td>\n",
       "      <td>22.0</td>\n",
       "      <td>NaN</td>\n",
       "      <td>Goalkeeper</td>\n",
       "      <td>15.0</td>\n",
       "      <td>4.0</td>\n",
       "      <td>3.0</td>\n",
       "      <td>3.0</td>\n",
       "      <td>NaN</td>\n",
       "    </tr>\n",
       "    <tr>\n",
       "      <th>4</th>\n",
       "      <td>1168</td>\n",
       "      <td>Alice</td>\n",
       "      <td>25.0</td>\n",
       "      <td>NaN</td>\n",
       "      <td>Forward</td>\n",
       "      <td>30.0</td>\n",
       "      <td>6.0</td>\n",
       "      <td>2.0</td>\n",
       "      <td>3.0</td>\n",
       "      <td>1.0</td>\n",
       "    </tr>\n",
       "    <tr>\n",
       "      <th>...</th>\n",
       "      <td>...</td>\n",
       "      <td>...</td>\n",
       "      <td>...</td>\n",
       "      <td>...</td>\n",
       "      <td>...</td>\n",
       "      <td>...</td>\n",
       "      <td>...</td>\n",
       "      <td>...</td>\n",
       "      <td>...</td>\n",
       "      <td>...</td>\n",
       "    </tr>\n",
       "    <tr>\n",
       "      <th>95</th>\n",
       "      <td>1989</td>\n",
       "      <td>John</td>\n",
       "      <td>21.0</td>\n",
       "      <td>Team E</td>\n",
       "      <td>Defender</td>\n",
       "      <td>20.0</td>\n",
       "      <td>4.0</td>\n",
       "      <td>0.0</td>\n",
       "      <td>0.0</td>\n",
       "      <td>0.0</td>\n",
       "    </tr>\n",
       "    <tr>\n",
       "      <th>96</th>\n",
       "      <td>1656</td>\n",
       "      <td>John</td>\n",
       "      <td>21.0</td>\n",
       "      <td>Team B</td>\n",
       "      <td>Goalkeeper</td>\n",
       "      <td>5.0</td>\n",
       "      <td>1.0</td>\n",
       "      <td>NaN</td>\n",
       "      <td>NaN</td>\n",
       "      <td>NaN</td>\n",
       "    </tr>\n",
       "    <tr>\n",
       "      <th>97</th>\n",
       "      <td>1771</td>\n",
       "      <td>Charlie</td>\n",
       "      <td>NaN</td>\n",
       "      <td>NaN</td>\n",
       "      <td>Midfielder</td>\n",
       "      <td>5.0</td>\n",
       "      <td>6.0</td>\n",
       "      <td>4.0</td>\n",
       "      <td>1.0</td>\n",
       "      <td>1.0</td>\n",
       "    </tr>\n",
       "    <tr>\n",
       "      <th>98</th>\n",
       "      <td>1867</td>\n",
       "      <td>Frank</td>\n",
       "      <td>26.0</td>\n",
       "      <td>Team D</td>\n",
       "      <td>NaN</td>\n",
       "      <td>30.0</td>\n",
       "      <td>NaN</td>\n",
       "      <td>0.0</td>\n",
       "      <td>NaN</td>\n",
       "      <td>NaN</td>\n",
       "    </tr>\n",
       "    <tr>\n",
       "      <th>99</th>\n",
       "      <td>1612</td>\n",
       "      <td>David</td>\n",
       "      <td>20.0</td>\n",
       "      <td>Team C</td>\n",
       "      <td>NaN</td>\n",
       "      <td>5.0</td>\n",
       "      <td>4.0</td>\n",
       "      <td>0.0</td>\n",
       "      <td>2.0</td>\n",
       "      <td>NaN</td>\n",
       "    </tr>\n",
       "  </tbody>\n",
       "</table>\n",
       "<p>100 rows × 10 columns</p>\n",
       "</div>"
      ],
      "text/plain": [
       "    Player_ID     Name   Age    Team    Position  Matches_Played  Goals  \\\n",
       "0        1332      Eva  24.0  Team B  Midfielder            10.0    5.0   \n",
       "1        1086    Grace  21.0  Team D    Defender            30.0    2.0   \n",
       "2        1764      Eva  22.0  Team B    Defender            25.0    3.0   \n",
       "3        1866     John  22.0     NaN  Goalkeeper            15.0    4.0   \n",
       "4        1168    Alice  25.0     NaN     Forward            30.0    6.0   \n",
       "..        ...      ...   ...     ...         ...             ...    ...   \n",
       "95       1989     John  21.0  Team E    Defender            20.0    4.0   \n",
       "96       1656     John  21.0  Team B  Goalkeeper             5.0    1.0   \n",
       "97       1771  Charlie   NaN     NaN  Midfielder             5.0    6.0   \n",
       "98       1867    Frank  26.0  Team D         NaN            30.0    NaN   \n",
       "99       1612    David  20.0  Team C         NaN             5.0    4.0   \n",
       "\n",
       "    Assists  Yellow_Cards  Red_Cards  \n",
       "0       NaN           1.0        0.0  \n",
       "1       5.0           NaN        1.0  \n",
       "2       NaN           3.0        NaN  \n",
       "3       3.0           3.0        NaN  \n",
       "4       2.0           3.0        1.0  \n",
       "..      ...           ...        ...  \n",
       "95      0.0           0.0        0.0  \n",
       "96      NaN           NaN        NaN  \n",
       "97      4.0           1.0        1.0  \n",
       "98      0.0           NaN        NaN  \n",
       "99      0.0           2.0        NaN  \n",
       "\n",
       "[100 rows x 10 columns]"
      ]
     },
     "execution_count": 6,
     "metadata": {},
     "output_type": "execute_result"
    }
   ],
   "source": [
    "df.head(100)"
   ]
  },
  {
   "cell_type": "code",
   "execution_count": 11,
   "id": "83a4b7a0-7cad-4a11-a4c7-6cd8418d1701",
   "metadata": {},
   "outputs": [
    {
     "data": {
      "text/html": [
       "<div>\n",
       "<style scoped>\n",
       "    .dataframe tbody tr th:only-of-type {\n",
       "        vertical-align: middle;\n",
       "    }\n",
       "\n",
       "    .dataframe tbody tr th {\n",
       "        vertical-align: top;\n",
       "    }\n",
       "\n",
       "    .dataframe thead th {\n",
       "        text-align: right;\n",
       "    }\n",
       "</style>\n",
       "<table border=\"1\" class=\"dataframe\">\n",
       "  <thead>\n",
       "    <tr style=\"text-align: right;\">\n",
       "      <th></th>\n",
       "      <th>Player_ID</th>\n",
       "      <th>Name</th>\n",
       "      <th>Age</th>\n",
       "      <th>Team</th>\n",
       "      <th>Position</th>\n",
       "      <th>Matches_Played</th>\n",
       "      <th>Goals</th>\n",
       "      <th>Assists</th>\n",
       "      <th>Yellow_Cards</th>\n",
       "      <th>Red_Cards</th>\n",
       "    </tr>\n",
       "  </thead>\n",
       "  <tbody>\n",
       "    <tr>\n",
       "      <th>200</th>\n",
       "      <td>1808</td>\n",
       "      <td>Eva</td>\n",
       "      <td>27.0</td>\n",
       "      <td>Team E</td>\n",
       "      <td>Midfielder</td>\n",
       "      <td>20.0</td>\n",
       "      <td>0.0</td>\n",
       "      <td>NaN</td>\n",
       "      <td>2.0</td>\n",
       "      <td>NaN</td>\n",
       "    </tr>\n",
       "    <tr>\n",
       "      <th>201</th>\n",
       "      <td>1295</td>\n",
       "      <td>John</td>\n",
       "      <td>26.0</td>\n",
       "      <td>Team A</td>\n",
       "      <td>Goalkeeper</td>\n",
       "      <td>5.0</td>\n",
       "      <td>1.0</td>\n",
       "      <td>1.0</td>\n",
       "      <td>NaN</td>\n",
       "      <td>0.0</td>\n",
       "    </tr>\n",
       "    <tr>\n",
       "      <th>202</th>\n",
       "      <td>1854</td>\n",
       "      <td>John</td>\n",
       "      <td>20.0</td>\n",
       "      <td>Team B</td>\n",
       "      <td>Defender</td>\n",
       "      <td>10.0</td>\n",
       "      <td>6.0</td>\n",
       "      <td>4.0</td>\n",
       "      <td>NaN</td>\n",
       "      <td>0.0</td>\n",
       "    </tr>\n",
       "    <tr>\n",
       "      <th>203</th>\n",
       "      <td>1261</td>\n",
       "      <td>Charlie</td>\n",
       "      <td>24.0</td>\n",
       "      <td>Team A</td>\n",
       "      <td>Midfielder</td>\n",
       "      <td>30.0</td>\n",
       "      <td>3.0</td>\n",
       "      <td>0.0</td>\n",
       "      <td>1.0</td>\n",
       "      <td>1.0</td>\n",
       "    </tr>\n",
       "    <tr>\n",
       "      <th>204</th>\n",
       "      <td>1704</td>\n",
       "      <td>Alice</td>\n",
       "      <td>27.0</td>\n",
       "      <td>Team B</td>\n",
       "      <td>Forward</td>\n",
       "      <td>5.0</td>\n",
       "      <td>6.0</td>\n",
       "      <td>NaN</td>\n",
       "      <td>3.0</td>\n",
       "      <td>1.0</td>\n",
       "    </tr>\n",
       "    <tr>\n",
       "      <th>205</th>\n",
       "      <td>1002</td>\n",
       "      <td>Eva</td>\n",
       "      <td>21.0</td>\n",
       "      <td>Team A</td>\n",
       "      <td>Defender</td>\n",
       "      <td>30.0</td>\n",
       "      <td>5.0</td>\n",
       "      <td>1.0</td>\n",
       "      <td>NaN</td>\n",
       "      <td>0.0</td>\n",
       "    </tr>\n",
       "    <tr>\n",
       "      <th>206</th>\n",
       "      <td>1141</td>\n",
       "      <td>Grace</td>\n",
       "      <td>27.0</td>\n",
       "      <td>Team B</td>\n",
       "      <td>Goalkeeper</td>\n",
       "      <td>25.0</td>\n",
       "      <td>5.0</td>\n",
       "      <td>0.0</td>\n",
       "      <td>1.0</td>\n",
       "      <td>1.0</td>\n",
       "    </tr>\n",
       "    <tr>\n",
       "      <th>207</th>\n",
       "      <td>1385</td>\n",
       "      <td>John</td>\n",
       "      <td>24.0</td>\n",
       "      <td>NaN</td>\n",
       "      <td>Defender</td>\n",
       "      <td>NaN</td>\n",
       "      <td>5.0</td>\n",
       "      <td>0.0</td>\n",
       "      <td>1.0</td>\n",
       "      <td>1.0</td>\n",
       "    </tr>\n",
       "    <tr>\n",
       "      <th>208</th>\n",
       "      <td>1568</td>\n",
       "      <td>David</td>\n",
       "      <td>22.0</td>\n",
       "      <td>Team A</td>\n",
       "      <td>Forward</td>\n",
       "      <td>5.0</td>\n",
       "      <td>5.0</td>\n",
       "      <td>4.0</td>\n",
       "      <td>3.0</td>\n",
       "      <td>1.0</td>\n",
       "    </tr>\n",
       "    <tr>\n",
       "      <th>209</th>\n",
       "      <td>1081</td>\n",
       "      <td>Alice</td>\n",
       "      <td>26.0</td>\n",
       "      <td>Team D</td>\n",
       "      <td>Goalkeeper</td>\n",
       "      <td>20.0</td>\n",
       "      <td>4.0</td>\n",
       "      <td>0.0</td>\n",
       "      <td>3.0</td>\n",
       "      <td>1.0</td>\n",
       "    </tr>\n",
       "  </tbody>\n",
       "</table>\n",
       "</div>"
      ],
      "text/plain": [
       "     Player_ID     Name   Age    Team    Position  Matches_Played  Goals  \\\n",
       "200       1808      Eva  27.0  Team E  Midfielder            20.0    0.0   \n",
       "201       1295     John  26.0  Team A  Goalkeeper             5.0    1.0   \n",
       "202       1854     John  20.0  Team B    Defender            10.0    6.0   \n",
       "203       1261  Charlie  24.0  Team A  Midfielder            30.0    3.0   \n",
       "204       1704    Alice  27.0  Team B     Forward             5.0    6.0   \n",
       "205       1002      Eva  21.0  Team A    Defender            30.0    5.0   \n",
       "206       1141    Grace  27.0  Team B  Goalkeeper            25.0    5.0   \n",
       "207       1385     John  24.0     NaN    Defender             NaN    5.0   \n",
       "208       1568    David  22.0  Team A     Forward             5.0    5.0   \n",
       "209       1081    Alice  26.0  Team D  Goalkeeper            20.0    4.0   \n",
       "\n",
       "     Assists  Yellow_Cards  Red_Cards  \n",
       "200      NaN           2.0        NaN  \n",
       "201      1.0           NaN        0.0  \n",
       "202      4.0           NaN        0.0  \n",
       "203      0.0           1.0        1.0  \n",
       "204      NaN           3.0        1.0  \n",
       "205      1.0           NaN        0.0  \n",
       "206      0.0           1.0        1.0  \n",
       "207      0.0           1.0        1.0  \n",
       "208      4.0           3.0        1.0  \n",
       "209      0.0           3.0        1.0  "
      ]
     },
     "execution_count": 11,
     "metadata": {},
     "output_type": "execute_result"
    }
   ],
   "source": [
    "df.tail(10)"
   ]
  },
  {
   "cell_type": "code",
   "execution_count": 12,
   "id": "cc8a4bb1-ad2c-4a9d-ac74-36093328cc29",
   "metadata": {},
   "outputs": [
    {
     "name": "stdout",
     "output_type": "stream",
     "text": [
      "<class 'pandas.core.frame.DataFrame'>\n",
      "RangeIndex: 210 entries, 0 to 209\n",
      "Data columns (total 10 columns):\n",
      " #   Column          Non-Null Count  Dtype  \n",
      "---  ------          --------------  -----  \n",
      " 0   Player_ID       210 non-null    int64  \n",
      " 1   Name            191 non-null    object \n",
      " 2   Age             191 non-null    float64\n",
      " 3   Team            161 non-null    object \n",
      " 4   Position        173 non-null    object \n",
      " 5   Matches_Played  178 non-null    float64\n",
      " 6   Goals           187 non-null    float64\n",
      " 7   Assists         174 non-null    float64\n",
      " 8   Yellow_Cards    175 non-null    float64\n",
      " 9   Red_Cards       161 non-null    float64\n",
      "dtypes: float64(6), int64(1), object(3)\n",
      "memory usage: 16.5+ KB\n"
     ]
    }
   ],
   "source": [
    "df.info()"
   ]
  },
  {
   "cell_type": "code",
   "execution_count": 13,
   "id": "1987d51f-0b19-428d-9bc3-87e94c31127b",
   "metadata": {},
   "outputs": [
    {
     "data": {
      "text/html": [
       "<div>\n",
       "<style scoped>\n",
       "    .dataframe tbody tr th:only-of-type {\n",
       "        vertical-align: middle;\n",
       "    }\n",
       "\n",
       "    .dataframe tbody tr th {\n",
       "        vertical-align: top;\n",
       "    }\n",
       "\n",
       "    .dataframe thead th {\n",
       "        text-align: right;\n",
       "    }\n",
       "</style>\n",
       "<table border=\"1\" class=\"dataframe\">\n",
       "  <thead>\n",
       "    <tr style=\"text-align: right;\">\n",
       "      <th></th>\n",
       "      <th>Player_ID</th>\n",
       "      <th>Name</th>\n",
       "      <th>Age</th>\n",
       "      <th>Team</th>\n",
       "      <th>Position</th>\n",
       "      <th>Matches_Played</th>\n",
       "      <th>Goals</th>\n",
       "      <th>Assists</th>\n",
       "      <th>Yellow_Cards</th>\n",
       "      <th>Red_Cards</th>\n",
       "    </tr>\n",
       "  </thead>\n",
       "  <tbody>\n",
       "    <tr>\n",
       "      <th>0</th>\n",
       "      <td>False</td>\n",
       "      <td>False</td>\n",
       "      <td>False</td>\n",
       "      <td>False</td>\n",
       "      <td>False</td>\n",
       "      <td>False</td>\n",
       "      <td>False</td>\n",
       "      <td>True</td>\n",
       "      <td>False</td>\n",
       "      <td>False</td>\n",
       "    </tr>\n",
       "    <tr>\n",
       "      <th>1</th>\n",
       "      <td>False</td>\n",
       "      <td>False</td>\n",
       "      <td>False</td>\n",
       "      <td>False</td>\n",
       "      <td>False</td>\n",
       "      <td>False</td>\n",
       "      <td>False</td>\n",
       "      <td>False</td>\n",
       "      <td>True</td>\n",
       "      <td>False</td>\n",
       "    </tr>\n",
       "    <tr>\n",
       "      <th>2</th>\n",
       "      <td>False</td>\n",
       "      <td>False</td>\n",
       "      <td>False</td>\n",
       "      <td>False</td>\n",
       "      <td>False</td>\n",
       "      <td>False</td>\n",
       "      <td>False</td>\n",
       "      <td>True</td>\n",
       "      <td>False</td>\n",
       "      <td>True</td>\n",
       "    </tr>\n",
       "    <tr>\n",
       "      <th>3</th>\n",
       "      <td>False</td>\n",
       "      <td>False</td>\n",
       "      <td>False</td>\n",
       "      <td>True</td>\n",
       "      <td>False</td>\n",
       "      <td>False</td>\n",
       "      <td>False</td>\n",
       "      <td>False</td>\n",
       "      <td>False</td>\n",
       "      <td>True</td>\n",
       "    </tr>\n",
       "    <tr>\n",
       "      <th>4</th>\n",
       "      <td>False</td>\n",
       "      <td>False</td>\n",
       "      <td>False</td>\n",
       "      <td>True</td>\n",
       "      <td>False</td>\n",
       "      <td>False</td>\n",
       "      <td>False</td>\n",
       "      <td>False</td>\n",
       "      <td>False</td>\n",
       "      <td>False</td>\n",
       "    </tr>\n",
       "    <tr>\n",
       "      <th>...</th>\n",
       "      <td>...</td>\n",
       "      <td>...</td>\n",
       "      <td>...</td>\n",
       "      <td>...</td>\n",
       "      <td>...</td>\n",
       "      <td>...</td>\n",
       "      <td>...</td>\n",
       "      <td>...</td>\n",
       "      <td>...</td>\n",
       "      <td>...</td>\n",
       "    </tr>\n",
       "    <tr>\n",
       "      <th>205</th>\n",
       "      <td>False</td>\n",
       "      <td>False</td>\n",
       "      <td>False</td>\n",
       "      <td>False</td>\n",
       "      <td>False</td>\n",
       "      <td>False</td>\n",
       "      <td>False</td>\n",
       "      <td>False</td>\n",
       "      <td>True</td>\n",
       "      <td>False</td>\n",
       "    </tr>\n",
       "    <tr>\n",
       "      <th>206</th>\n",
       "      <td>False</td>\n",
       "      <td>False</td>\n",
       "      <td>False</td>\n",
       "      <td>False</td>\n",
       "      <td>False</td>\n",
       "      <td>False</td>\n",
       "      <td>False</td>\n",
       "      <td>False</td>\n",
       "      <td>False</td>\n",
       "      <td>False</td>\n",
       "    </tr>\n",
       "    <tr>\n",
       "      <th>207</th>\n",
       "      <td>False</td>\n",
       "      <td>False</td>\n",
       "      <td>False</td>\n",
       "      <td>True</td>\n",
       "      <td>False</td>\n",
       "      <td>True</td>\n",
       "      <td>False</td>\n",
       "      <td>False</td>\n",
       "      <td>False</td>\n",
       "      <td>False</td>\n",
       "    </tr>\n",
       "    <tr>\n",
       "      <th>208</th>\n",
       "      <td>False</td>\n",
       "      <td>False</td>\n",
       "      <td>False</td>\n",
       "      <td>False</td>\n",
       "      <td>False</td>\n",
       "      <td>False</td>\n",
       "      <td>False</td>\n",
       "      <td>False</td>\n",
       "      <td>False</td>\n",
       "      <td>False</td>\n",
       "    </tr>\n",
       "    <tr>\n",
       "      <th>209</th>\n",
       "      <td>False</td>\n",
       "      <td>False</td>\n",
       "      <td>False</td>\n",
       "      <td>False</td>\n",
       "      <td>False</td>\n",
       "      <td>False</td>\n",
       "      <td>False</td>\n",
       "      <td>False</td>\n",
       "      <td>False</td>\n",
       "      <td>False</td>\n",
       "    </tr>\n",
       "  </tbody>\n",
       "</table>\n",
       "<p>210 rows × 10 columns</p>\n",
       "</div>"
      ],
      "text/plain": [
       "     Player_ID   Name    Age   Team  Position  Matches_Played  Goals  Assists  \\\n",
       "0        False  False  False  False     False           False  False     True   \n",
       "1        False  False  False  False     False           False  False    False   \n",
       "2        False  False  False  False     False           False  False     True   \n",
       "3        False  False  False   True     False           False  False    False   \n",
       "4        False  False  False   True     False           False  False    False   \n",
       "..         ...    ...    ...    ...       ...             ...    ...      ...   \n",
       "205      False  False  False  False     False           False  False    False   \n",
       "206      False  False  False  False     False           False  False    False   \n",
       "207      False  False  False   True     False            True  False    False   \n",
       "208      False  False  False  False     False           False  False    False   \n",
       "209      False  False  False  False     False           False  False    False   \n",
       "\n",
       "     Yellow_Cards  Red_Cards  \n",
       "0           False      False  \n",
       "1            True      False  \n",
       "2           False       True  \n",
       "3           False       True  \n",
       "4           False      False  \n",
       "..            ...        ...  \n",
       "205          True      False  \n",
       "206         False      False  \n",
       "207         False      False  \n",
       "208         False      False  \n",
       "209         False      False  \n",
       "\n",
       "[210 rows x 10 columns]"
      ]
     },
     "execution_count": 13,
     "metadata": {},
     "output_type": "execute_result"
    }
   ],
   "source": [
    "df.isnull()"
   ]
  },
  {
   "cell_type": "code",
   "execution_count": 14,
   "id": "043a3d78-4ebf-479d-87da-e64748cd369a",
   "metadata": {},
   "outputs": [
    {
     "data": {
      "text/plain": [
       "(210, 10)"
      ]
     },
     "execution_count": 14,
     "metadata": {},
     "output_type": "execute_result"
    }
   ],
   "source": [
    "df.shape"
   ]
  },
  {
   "cell_type": "code",
   "execution_count": 9,
   "id": "7b8ca0af-5cd5-420f-bfe5-ee58301143c8",
   "metadata": {},
   "outputs": [
    {
     "data": {
      "text/plain": [
       "(48, 10)"
      ]
     },
     "execution_count": 9,
     "metadata": {},
     "output_type": "execute_result"
    }
   ],
   "source": [
    "df2 = df.dropna()\n",
    "df2.shape"
   ]
  },
  {
   "cell_type": "code",
   "execution_count": 28,
   "id": "32f608f1-d2f8-4e74-9658-840c39a39f06",
   "metadata": {},
   "outputs": [
    {
     "data": {
      "text/plain": [
       "(210,)"
      ]
     },
     "execution_count": 28,
     "metadata": {},
     "output_type": "execute_result"
    }
   ],
   "source": [
    "df.duplicated().shape"
   ]
  },
  {
   "cell_type": "code",
   "execution_count": 10,
   "id": "722b5ddd-22fd-4c48-8772-65b41272a588",
   "metadata": {
    "scrolled": true
   },
   "outputs": [
    {
     "name": "stdout",
     "output_type": "stream",
     "text": [
      "(48, 10)\n",
      "(44, 10)\n"
     ]
    }
   ],
   "source": [
    "df3 = df2.drop_duplicates()\n",
    "print(df2.shape)\n",
    "print(df3.shape)"
   ]
  },
  {
   "cell_type": "code",
   "execution_count": null,
   "id": "107d2caf-fef0-49df-a2dc-e23e8017abcd",
   "metadata": {},
   "outputs": [],
   "source": []
  },
  {
   "cell_type": "code",
   "execution_count": 13,
   "id": "7e5fc05e-3c51-4934-9c63-ba0b8c6bb3c9",
   "metadata": {},
   "outputs": [
    {
     "data": {
      "text/html": [
       "<div>\n",
       "<style scoped>\n",
       "    .dataframe tbody tr th:only-of-type {\n",
       "        vertical-align: middle;\n",
       "    }\n",
       "\n",
       "    .dataframe tbody tr th {\n",
       "        vertical-align: top;\n",
       "    }\n",
       "\n",
       "    .dataframe thead th {\n",
       "        text-align: right;\n",
       "    }\n",
       "</style>\n",
       "<table border=\"1\" class=\"dataframe\">\n",
       "  <thead>\n",
       "    <tr style=\"text-align: right;\">\n",
       "      <th></th>\n",
       "      <th>Player_ID</th>\n",
       "      <th>Name</th>\n",
       "      <th>Age</th>\n",
       "      <th>Team</th>\n",
       "      <th>Position</th>\n",
       "      <th>Matches_Played</th>\n",
       "      <th>Goals</th>\n",
       "      <th>Assists</th>\n",
       "      <th>Yellow_Cards</th>\n",
       "      <th>Red_Cards</th>\n",
       "    </tr>\n",
       "  </thead>\n",
       "  <tbody>\n",
       "    <tr>\n",
       "      <th>6</th>\n",
       "      <td>1573</td>\n",
       "      <td>Frank</td>\n",
       "      <td>23.0</td>\n",
       "      <td>Team D</td>\n",
       "      <td>Midfielder</td>\n",
       "      <td>15.0</td>\n",
       "      <td>6.0</td>\n",
       "      <td>5.0</td>\n",
       "      <td>1.0</td>\n",
       "      <td>1.0</td>\n",
       "    </tr>\n",
       "    <tr>\n",
       "      <th>8</th>\n",
       "      <td>1837</td>\n",
       "      <td>David</td>\n",
       "      <td>25.0</td>\n",
       "      <td>Team E</td>\n",
       "      <td>Defender</td>\n",
       "      <td>20.0</td>\n",
       "      <td>6.0</td>\n",
       "      <td>3.0</td>\n",
       "      <td>0.0</td>\n",
       "      <td>1.0</td>\n",
       "    </tr>\n",
       "    <tr>\n",
       "      <th>17</th>\n",
       "      <td>1799</td>\n",
       "      <td>Charlie</td>\n",
       "      <td>23.0</td>\n",
       "      <td>Team E</td>\n",
       "      <td>Forward</td>\n",
       "      <td>20.0</td>\n",
       "      <td>0.0</td>\n",
       "      <td>2.0</td>\n",
       "      <td>3.0</td>\n",
       "      <td>1.0</td>\n",
       "    </tr>\n",
       "    <tr>\n",
       "      <th>18</th>\n",
       "      <td>1252</td>\n",
       "      <td>John</td>\n",
       "      <td>24.0</td>\n",
       "      <td>Team A</td>\n",
       "      <td>Goalkeeper</td>\n",
       "      <td>20.0</td>\n",
       "      <td>6.0</td>\n",
       "      <td>1.0</td>\n",
       "      <td>2.0</td>\n",
       "      <td>1.0</td>\n",
       "    </tr>\n",
       "    <tr>\n",
       "      <th>25</th>\n",
       "      <td>1081</td>\n",
       "      <td>Alice</td>\n",
       "      <td>26.0</td>\n",
       "      <td>Team D</td>\n",
       "      <td>Goalkeeper</td>\n",
       "      <td>20.0</td>\n",
       "      <td>4.0</td>\n",
       "      <td>0.0</td>\n",
       "      <td>3.0</td>\n",
       "      <td>1.0</td>\n",
       "    </tr>\n",
       "    <tr>\n",
       "      <th>28</th>\n",
       "      <td>1830</td>\n",
       "      <td>Bob</td>\n",
       "      <td>21.0</td>\n",
       "      <td>Team E</td>\n",
       "      <td>Midfielder</td>\n",
       "      <td>30.0</td>\n",
       "      <td>0.0</td>\n",
       "      <td>3.0</td>\n",
       "      <td>3.0</td>\n",
       "      <td>1.0</td>\n",
       "    </tr>\n",
       "    <tr>\n",
       "      <th>37</th>\n",
       "      <td>1888</td>\n",
       "      <td>Alice</td>\n",
       "      <td>23.0</td>\n",
       "      <td>Team E</td>\n",
       "      <td>Defender</td>\n",
       "      <td>30.0</td>\n",
       "      <td>1.0</td>\n",
       "      <td>1.0</td>\n",
       "      <td>2.0</td>\n",
       "      <td>0.0</td>\n",
       "    </tr>\n",
       "    <tr>\n",
       "      <th>42</th>\n",
       "      <td>1131</td>\n",
       "      <td>Bob</td>\n",
       "      <td>22.0</td>\n",
       "      <td>Team A</td>\n",
       "      <td>Defender</td>\n",
       "      <td>25.0</td>\n",
       "      <td>2.0</td>\n",
       "      <td>3.0</td>\n",
       "      <td>2.0</td>\n",
       "      <td>0.0</td>\n",
       "    </tr>\n",
       "    <tr>\n",
       "      <th>59</th>\n",
       "      <td>1431</td>\n",
       "      <td>Alice</td>\n",
       "      <td>27.0</td>\n",
       "      <td>Team A</td>\n",
       "      <td>Goalkeeper</td>\n",
       "      <td>15.0</td>\n",
       "      <td>3.0</td>\n",
       "      <td>5.0</td>\n",
       "      <td>1.0</td>\n",
       "      <td>0.0</td>\n",
       "    </tr>\n",
       "    <tr>\n",
       "      <th>69</th>\n",
       "      <td>1141</td>\n",
       "      <td>Grace</td>\n",
       "      <td>27.0</td>\n",
       "      <td>Team B</td>\n",
       "      <td>Goalkeeper</td>\n",
       "      <td>25.0</td>\n",
       "      <td>5.0</td>\n",
       "      <td>0.0</td>\n",
       "      <td>1.0</td>\n",
       "      <td>1.0</td>\n",
       "    </tr>\n",
       "  </tbody>\n",
       "</table>\n",
       "</div>"
      ],
      "text/plain": [
       "    Player_ID     Name   Age    Team    Position  Matches_Played  Goals  \\\n",
       "6        1573    Frank  23.0  Team D  Midfielder            15.0    6.0   \n",
       "8        1837    David  25.0  Team E    Defender            20.0    6.0   \n",
       "17       1799  Charlie  23.0  Team E     Forward            20.0    0.0   \n",
       "18       1252     John  24.0  Team A  Goalkeeper            20.0    6.0   \n",
       "25       1081    Alice  26.0  Team D  Goalkeeper            20.0    4.0   \n",
       "28       1830      Bob  21.0  Team E  Midfielder            30.0    0.0   \n",
       "37       1888    Alice  23.0  Team E    Defender            30.0    1.0   \n",
       "42       1131      Bob  22.0  Team A    Defender            25.0    2.0   \n",
       "59       1431    Alice  27.0  Team A  Goalkeeper            15.0    3.0   \n",
       "69       1141    Grace  27.0  Team B  Goalkeeper            25.0    5.0   \n",
       "\n",
       "    Assists  Yellow_Cards  Red_Cards  \n",
       "6       5.0           1.0        1.0  \n",
       "8       3.0           0.0        1.0  \n",
       "17      2.0           3.0        1.0  \n",
       "18      1.0           2.0        1.0  \n",
       "25      0.0           3.0        1.0  \n",
       "28      3.0           3.0        1.0  \n",
       "37      1.0           2.0        0.0  \n",
       "42      3.0           2.0        0.0  \n",
       "59      5.0           1.0        0.0  \n",
       "69      0.0           1.0        1.0  "
      ]
     },
     "execution_count": 13,
     "metadata": {},
     "output_type": "execute_result"
    }
   ],
   "source": [
    "df3.head(10)"
   ]
  },
  {
   "cell_type": "code",
   "execution_count": 11,
   "id": "42aeef16-cb95-4026-a33f-8b71bc6dfd7d",
   "metadata": {},
   "outputs": [
    {
     "name": "stdout",
     "output_type": "stream",
     "text": [
      "11\n"
     ]
    }
   ],
   "source": [
    "team_A_count = df3['Team'].value_counts().get('Team A', 0)\n",
    "print(team_a_count)"
   ]
  },
  {
   "cell_type": "code",
   "execution_count": 13,
   "id": "bd5db071-f510-4362-bc2e-3b491c2b35a9",
   "metadata": {},
   "outputs": [
    {
     "name": "stdout",
     "output_type": "stream",
     "text": [
      "5\n"
     ]
    }
   ],
   "source": [
    "team_B_count = df3['Team'].value_counts().get('Team B',0)\n",
    "print(team_B_count)"
   ]
  },
  {
   "cell_type": "code",
   "execution_count": 14,
   "id": "3a709d20-3c4f-4d03-b327-553d6598fce6",
   "metadata": {},
   "outputs": [
    {
     "name": "stdout",
     "output_type": "stream",
     "text": [
      "2\n"
     ]
    }
   ],
   "source": [
    "team_C_count = df3['Team'].value_counts().get('Team C' ,0)\n",
    "print(team_C_count)"
   ]
  },
  {
   "cell_type": "code",
   "execution_count": 31,
   "id": "8da4cfa4-b8a1-47df-85c9-152cef904218",
   "metadata": {},
   "outputs": [
    {
     "name": "stdout",
     "output_type": "stream",
     "text": [
      "8\n"
     ]
    }
   ],
   "source": [
    "team_D_count = df3['Team'].value_counts().get('Team D' ,0)\n",
    "print(team_D_count)"
   ]
  },
  {
   "cell_type": "code",
   "execution_count": 32,
   "id": "376c85de-a596-41b5-9c62-6892cb2756cb",
   "metadata": {},
   "outputs": [
    {
     "name": "stdout",
     "output_type": "stream",
     "text": [
      "18\n"
     ]
    }
   ],
   "source": [
    "team_E_count = df3['Team'].value_counts().get('Team E' ,0)\n",
    "print(team_E_count)"
   ]
  },
  {
   "cell_type": "code",
   "execution_count": 17,
   "id": "c1172765-a03a-45de-995d-80523cc525b5",
   "metadata": {},
   "outputs": [
    {
     "data": {
      "text/plain": [
       "array(['Team D', 'Team E', 'Team A', 'Team B', 'Team C'], dtype=object)"
      ]
     },
     "execution_count": 17,
     "metadata": {},
     "output_type": "execute_result"
    }
   ],
   "source": [
    "df3['Team'].unique()\n"
   ]
  },
  {
   "cell_type": "code",
   "execution_count": 52,
   "id": "221b1f91-2a0b-41d3-b525-0934ea9eb068",
   "metadata": {},
   "outputs": [
    {
     "data": {
      "image/png": "[encoded data removed]",
      "text/plain": [
       "<Figure size 640x480 with 1 Axes>"
      ]
     },
     "metadata": {},
     "output_type": "display_data"
    }
   ],
   "source": [
    "\n",
    "team_counts = df3['Team'].value_counts()\n",
    "\n",
    "\n",
    "#plt.figure(figsize=(8, 6))\n",
    "team_counts.plot.pie(autopct='%1.1f%%')\n",
    "plt.title(\"Distribution of Teams\", fontsize=16)\n",
    "plt.ylabel(\"\")  \n",
    "plt.show()\n"
   ]
  },
  {
   "cell_type": "code",
   "execution_count": 33,
   "id": "53dc28e6-be2e-45f9-861e-e22adcadb0ae",
   "metadata": {},
   "outputs": [
    {
     "data": {
      "text/plain": [
       "array([23., 25., 24., 26., 21., 22., 27., 20.])"
      ]
     },
     "execution_count": 33,
     "metadata": {},
     "output_type": "execute_result"
    }
   ],
   "source": [
    "df3['Age'].unique\n"
   ]
  },
  {
   "cell_type": "code",
   "execution_count": 42,
   "id": "4cc20f6f-1d0f-43fe-9ac6-aee70599d03d",
   "metadata": {},
   "outputs": [
    {
     "name": "stdout",
     "output_type": "stream",
     "text": [
      "3\n"
     ]
    }
   ],
   "source": [
    "age_player20 = df3['Age'].value_counts().get(20.0,0)\n",
    "print(age_player20)"
   ]
  },
  {
   "cell_type": "code",
   "execution_count": 43,
   "id": "e19c2be3-13b6-4021-86de-66a5090963d3",
   "metadata": {},
   "outputs": [
    {
     "name": "stdout",
     "output_type": "stream",
     "text": [
      "4\n"
     ]
    }
   ],
   "source": [
    "age_player21 = df3['Age'].value_counts().get(21.0,0)\n",
    "print(age_player21)"
   ]
  },
  {
   "cell_type": "code",
   "execution_count": 44,
   "id": "94e4e39b-3cf3-48a7-8778-103b3b0f6689",
   "metadata": {},
   "outputs": [
    {
     "name": "stdout",
     "output_type": "stream",
     "text": [
      "5\n"
     ]
    }
   ],
   "source": [
    "age_player22 = df3['Age'].value_counts().get(22.0,0)\n",
    "print(age_player22)"
   ]
  },
  {
   "cell_type": "code",
   "execution_count": 60,
   "id": "de383d04-3b28-4ca3-bad2-4307954e0fc3",
   "metadata": {},
   "outputs": [
    {
     "data": {
      "text/plain": [
       "<Axes: xlabel='Age'>"
      ]
     },
     "execution_count": 60,
     "metadata": {},
     "output_type": "execute_result"
    },
    {
     "data": {
      "image/png": "[encoded data removed]",
      "text/plain": [
       "<Figure size 640x480 with 1 Axes>"
      ]
     },
     "metadata": {},
     "output_type": "display_data"
    }
   ],
   "source": [
    "age_counts = df3['Age'].value_counts()\n",
    "age_counts.plot.bar()"
   ]
  },
  {
   "cell_type": "code",
   "execution_count": 70,
   "id": "138a3a1f-9184-435f-853a-1378b9576121",
   "metadata": {},
   "outputs": [
    {
     "name": "stdout",
     "output_type": "stream",
     "text": [
      "Position\n",
      "Goalkeeper    15\n",
      "Forward       12\n",
      "Defender      10\n",
      "Midfielder     7\n",
      "Name: count, dtype: int64\n"
     ]
    }
   ],
   "source": [
    "position_count = df3['Position'].value_counts()\n",
    "print(position_count)"
   ]
  },
  {
   "cell_type": "code",
   "execution_count": 79,
   "id": "8a53eb66-0480-43d7-b8c6-c14ce12bff38",
   "metadata": {},
   "outputs": [
    {
     "data": {
      "image/png": "[encoded data removed]",
      "text/plain": [
       "<Figure size 1000x600 with 1 Axes>"
      ]
     },
     "metadata": {},
     "output_type": "display_data"
    }
   ],
   "source": [
    "\n",
    "team_counts = df3['Team'].value_counts()\n",
    "position_counts = df3['Position'].value_counts()\n",
    "\n",
    "team_position_counts = pd.crosstab(df3['Team'], df3['Position'])\n",
    "\n",
    "team_position_counts.plot(kind='bar', stacked=True, figsize=(10, 6), colormap='Set3')\n",
    "plt.title('Team and Position Distribution')\n",
    "plt.xlabel('Team')\n",
    "plt.ylabel('Counts')\n",
    "plt.legend(title='Position')\n",
    "plt.show()\n"
   ]
  },
  {
   "cell_type": "code",
   "execution_count": 74,
   "id": "d4cc177b-98ab-44d8-95e5-fb6287aeede3",
   "metadata": {},
   "outputs": [
    {
     "name": "stdout",
     "output_type": "stream",
     "text": [
      "Name\n",
      "Bob        11\n",
      "Alice       7\n",
      "Grace       7\n",
      "Charlie     6\n",
      "David       5\n",
      "John        3\n",
      "Eva         3\n",
      "Frank       2\n",
      "Name: count, dtype: int64\n"
     ]
    }
   ],
   "source": [
    "pleyer_name = df3['Name'].value_counts() \n",
    "print(pleyer_name)"
   ]
  },
  {
   "cell_type": "code",
   "execution_count": 78,
   "id": "d9189ef2-ac87-4ba9-8fcd-16ccaf9f6251",
   "metadata": {},
   "outputs": [
    {
     "name": "stdout",
     "output_type": "stream",
     "text": [
      "Player with most goals: Frank\n",
      "Age: 23.0\n",
      "position: Midfielder\n",
      "team: Team D\n"
     ]
    }
   ],
   "source": [
    "max_goal_pleayer = df3.loc[df3['Goals'].idxmax()]\n",
    "player_name = max_goal_pleayer['Name']\n",
    "player_age = max_goal_pleayer['Age']\n",
    "player_position = max_goal_pleayer['Position']\n",
    "player_team = max_goal_pleayer['Team']\n",
    "print(f\"Player with most goals: {player_name}\")\n",
    "print(f\"Age: {player_age}\")\n",
    "print(f\"position: {player_position}\")\n",
    "print(f\"team: {player_team}\")"
   ]
  }
 ],
 "metadata": {
  "kernelspec": {
   "display_name": "Python 3 (ipykernel)",
   "language": "python",
   "name": "python3"
  },
  "language_info": {
   "codemirror_mode": {
    "name": "ipython",
    "version": 3
   },
   "file_extension": ".py",
   "mimetype": "text/x-python",
   "name": "python",
   "nbconvert_exporter": "python",
   "pygments_lexer": "ipython3",
   "version": "3.12.5"
  }
 },
 "nbformat": 4,
 "nbformat_minor": 5
}
